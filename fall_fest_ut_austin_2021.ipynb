{
 "cells": [
  {
   "cell_type": "code",
   "execution_count": 125,
   "metadata": {},
   "outputs": [
    {
     "name": "stdout",
     "output_type": "stream",
     "text": [
      "Requirement already satisfied: qiskit in /opt/conda/lib/python3.7/site-packages (0.27.0)\n",
      "Requirement already satisfied: qiskit-aqua==0.9.2 in /opt/conda/lib/python3.7/site-packages (from qiskit) (0.9.2)\n",
      "Requirement already satisfied: qiskit-ibmq-provider==0.14.0 in /opt/conda/lib/python3.7/site-packages (from qiskit) (0.14.0)\n",
      "Requirement already satisfied: qiskit-terra==0.17.4 in /opt/conda/lib/python3.7/site-packages (from qiskit) (0.17.4)\n",
      "Requirement already satisfied: qiskit-aer==0.8.2 in /opt/conda/lib/python3.7/site-packages (from qiskit) (0.8.2)\n",
      "Requirement already satisfied: qiskit-ignis==0.6.0 in /opt/conda/lib/python3.7/site-packages (from qiskit) (0.6.0)\n",
      "Requirement already satisfied: scikit-learn>=0.20.0 in /opt/conda/lib/python3.7/site-packages (from qiskit-aqua==0.9.2->qiskit) (0.21.3)\n",
      "Requirement already satisfied: yfinance in /opt/conda/lib/python3.7/site-packages (from qiskit-aqua==0.9.2->qiskit) (0.1.63)\n",
      "Requirement already satisfied: pandas in /opt/conda/lib/python3.7/site-packages (from qiskit-aqua==0.9.2->qiskit) (0.25.0)\n",
      "\u001b[33mWARNING: Keyring is skipped due to an exception: entry_points() got an unexpected keyword argument 'group'\u001b[0m\n",
      "\u001b[33mWARNING: Keyring is skipped due to an exception: entry_points() got an unexpected keyword argument 'group'\u001b[0m\n",
      "Collecting scipy>=1.4\n",
      "\u001b[33m  WARNING: Keyring is skipped due to an exception: entry_points() got an unexpected keyword argument 'group'\u001b[0m\n",
      "  Using cached scipy-1.7.1-cp37-cp37m-manylinux_2_5_x86_64.manylinux1_x86_64.whl (28.5 MB)\n",
      "Requirement already satisfied: docplex<=2.20.204; sys_platform != \"darwin\" in /opt/conda/lib/python3.7/site-packages (from qiskit-aqua==0.9.2->qiskit) (2.10.154)\n",
      "Requirement already satisfied: sympy>=1.3 in /opt/conda/lib/python3.7/site-packages (from qiskit-aqua==0.9.2->qiskit) (1.4)\n",
      "Requirement already satisfied: retworkx>=0.8.0 in /opt/conda/lib/python3.7/site-packages (from qiskit-aqua==0.9.2->qiskit) (0.9.0)\n",
      "Requirement already satisfied: numpy>=1.17 in /opt/conda/lib/python3.7/site-packages (from qiskit-aqua==0.9.2->qiskit) (1.18.4)\n",
      "Requirement already satisfied: setuptools>=40.1.0 in /opt/conda/lib/python3.7/site-packages (from qiskit-aqua==0.9.2->qiskit) (47.3.1.post20200616)\n",
      "Requirement already satisfied: dlx<=1.0.4 in /opt/conda/lib/python3.7/site-packages (from qiskit-aqua==0.9.2->qiskit) (1.0.4)\n",
      "Requirement already satisfied: psutil>=5 in /opt/conda/lib/python3.7/site-packages (from qiskit-aqua==0.9.2->qiskit) (5.8.0)\n",
      "Requirement already satisfied: h5py in /opt/conda/lib/python3.7/site-packages (from qiskit-aqua==0.9.2->qiskit) (2.9.0)\n",
      "Requirement already satisfied: quandl in /opt/conda/lib/python3.7/site-packages (from qiskit-aqua==0.9.2->qiskit) (3.4.8)\n",
      "Requirement already satisfied: fastdtw<=0.3.4 in /opt/conda/lib/python3.7/site-packages (from qiskit-aqua==0.9.2->qiskit) (0.3.2)\n",
      "Requirement already satisfied: requests-ntlm>=1.1.0 in /opt/conda/lib/python3.7/site-packages (from qiskit-ibmq-provider==0.14.0->qiskit) (1.1.0)\n",
      "Requirement already satisfied: dill>=0.3 in /opt/conda/lib/python3.7/site-packages (from qiskit-ibmq-provider==0.14.0->qiskit) (0.3.4)\n",
      "Requirement already satisfied: websocket-client>=1.0.1 in /opt/conda/lib/python3.7/site-packages (from qiskit-ibmq-provider==0.14.0->qiskit) (1.1.0)\n",
      "Requirement already satisfied: urllib3>=1.21.1 in /opt/conda/lib/python3.7/site-packages (from qiskit-ibmq-provider==0.14.0->qiskit) (1.26.5)\n",
      "Requirement already satisfied: python-dateutil>=2.8.0 in /opt/conda/lib/python3.7/site-packages (from qiskit-ibmq-provider==0.14.0->qiskit) (2.8.0)\n",
      "Requirement already satisfied: requests>=2.19 in /opt/conda/lib/python3.7/site-packages (from qiskit-ibmq-provider==0.14.0->qiskit) (2.23.0)\n",
      "Requirement already satisfied: jsonschema>=2.6 in /opt/conda/lib/python3.7/site-packages (from qiskit-terra==0.17.4->qiskit) (3.0.1)\n",
      "Requirement already satisfied: fastjsonschema>=2.10 in /opt/conda/lib/python3.7/site-packages (from qiskit-terra==0.17.4->qiskit) (2.15.1)\n",
      "Requirement already satisfied: python-constraint>=1.4 in /opt/conda/lib/python3.7/site-packages (from qiskit-terra==0.17.4->qiskit) (1.4.0)\n",
      "Requirement already satisfied: ply>=3.10 in /opt/conda/lib/python3.7/site-packages (from qiskit-terra==0.17.4->qiskit) (3.11)\n",
      "\u001b[33mWARNING: Keyring is skipped due to an exception: entry_points() got an unexpected keyword argument 'group'\u001b[0m\n",
      "\u001b[33mWARNING: Keyring is skipped due to an exception: entry_points() got an unexpected keyword argument 'group'\u001b[0m\n",
      "Collecting pybind11>=2.6\n",
      "\u001b[33m  WARNING: Keyring is skipped due to an exception: entry_points() got an unexpected keyword argument 'group'\u001b[0m\n",
      "  Using cached pybind11-2.8.0-py2.py3-none-any.whl (207 kB)\n",
      "Requirement already satisfied: joblib>=0.11 in /opt/conda/lib/python3.7/site-packages (from scikit-learn>=0.20.0->qiskit-aqua==0.9.2->qiskit) (0.13.2)\n",
      "Requirement already satisfied: lxml>=4.5.1 in /opt/conda/lib/python3.7/site-packages (from yfinance->qiskit-aqua==0.9.2->qiskit) (4.6.3)\n",
      "Requirement already satisfied: multitasking>=0.0.7 in /opt/conda/lib/python3.7/site-packages (from yfinance->qiskit-aqua==0.9.2->qiskit) (0.0.9)\n",
      "Requirement already satisfied: pytz>=2017.2 in /opt/conda/lib/python3.7/site-packages (from pandas->qiskit-aqua==0.9.2->qiskit) (2019.2)\n",
      "Requirement already satisfied: six in /opt/conda/lib/python3.7/site-packages (from docplex<=2.20.204; sys_platform != \"darwin\"->qiskit-aqua==0.9.2->qiskit) (1.12.0)\n",
      "Requirement already satisfied: docloud>=1.0.369 in /opt/conda/lib/python3.7/site-packages (from docplex<=2.20.204; sys_platform != \"darwin\"->qiskit-aqua==0.9.2->qiskit) (1.0.375)\n",
      "Requirement already satisfied: mpmath>=0.19 in /opt/conda/lib/python3.7/site-packages (from sympy>=1.3->qiskit-aqua==0.9.2->qiskit) (1.1.0)\n",
      "Requirement already satisfied: inflection>=0.3.1 in /opt/conda/lib/python3.7/site-packages (from quandl->qiskit-aqua==0.9.2->qiskit) (0.3.1)\n",
      "Requirement already satisfied: pyasn1 in /opt/conda/lib/python3.7/site-packages (from quandl->qiskit-aqua==0.9.2->qiskit) (0.4.6)\n",
      "Requirement already satisfied: pyOpenSSL in /opt/conda/lib/python3.7/site-packages (from quandl->qiskit-aqua==0.9.2->qiskit) (19.0.0)\n",
      "Requirement already satisfied: ndg-httpsclient in /opt/conda/lib/python3.7/site-packages (from quandl->qiskit-aqua==0.9.2->qiskit) (0.5.1)\n",
      "Requirement already satisfied: more-itertools<=5.0.0 in /opt/conda/lib/python3.7/site-packages (from quandl->qiskit-aqua==0.9.2->qiskit) (5.0.0)\n",
      "Requirement already satisfied: ntlm-auth>=1.0.2 in /opt/conda/lib/python3.7/site-packages (from requests-ntlm>=1.1.0->qiskit-ibmq-provider==0.14.0->qiskit) (1.3.0)\n",
      "Requirement already satisfied: cryptography>=1.3 in /opt/conda/lib/python3.7/site-packages (from requests-ntlm>=1.1.0->qiskit-ibmq-provider==0.14.0->qiskit) (3.4.7)\n",
      "Requirement already satisfied: idna<3,>=2.5 in /opt/conda/lib/python3.7/site-packages (from requests>=2.19->qiskit-ibmq-provider==0.14.0->qiskit) (2.8)\n",
      "Requirement already satisfied: chardet<4,>=3.0.2 in /opt/conda/lib/python3.7/site-packages (from requests>=2.19->qiskit-ibmq-provider==0.14.0->qiskit) (3.0.4)\n",
      "Requirement already satisfied: certifi>=2017.4.17 in /opt/conda/lib/python3.7/site-packages (from requests>=2.19->qiskit-ibmq-provider==0.14.0->qiskit) (2019.6.16)\n",
      "Requirement already satisfied: attrs>=17.4.0 in /opt/conda/lib/python3.7/site-packages (from jsonschema>=2.6->qiskit-terra==0.17.4->qiskit) (19.1.0)\n",
      "Requirement already satisfied: pyrsistent>=0.14.0 in /opt/conda/lib/python3.7/site-packages (from jsonschema>=2.6->qiskit-terra==0.17.4->qiskit) (0.16.0)\n",
      "Requirement already satisfied: cffi>=1.12 in /opt/conda/lib/python3.7/site-packages (from cryptography>=1.3->requests-ntlm>=1.1.0->qiskit-ibmq-provider==0.14.0->qiskit) (1.12.3)\n",
      "Requirement already satisfied: pycparser in /opt/conda/lib/python3.7/site-packages (from cffi>=1.12->cryptography>=1.3->requests-ntlm>=1.1.0->qiskit-ibmq-provider==0.14.0->qiskit) (2.19)\n",
      "\u001b[31mERROR: thewalrus 0.15.1 has requirement sympy>=1.5.1, but you'll have sympy 1.4 which is incompatible.\u001b[0m\n",
      "\u001b[31mERROR: strawberryfields 0.18.0 has requirement sympy>=1.5, but you'll have sympy 1.4 which is incompatible.\u001b[0m\n",
      "\u001b[31mERROR: strangeworks 2.4.5 has requirement antlr4-python3-runtime==4.8, but you'll have antlr4-python3-runtime 4.7.2 which is incompatible.\u001b[0m\n",
      "\u001b[31mERROR: strangeworks 2.4.5 has requirement pylatexenc==2.7, but you'll have pylatexenc 1.5 which is incompatible.\u001b[0m\n",
      "\u001b[31mERROR: pytket 0.12.0 has requirement networkx~=2.4, but you'll have networkx 2.2 which is incompatible.\u001b[0m\n",
      "\u001b[31mERROR: pytket 0.12.0 has requirement numpy~=1.20, but you'll have numpy 1.18.4 which is incompatible.\u001b[0m\n",
      "\u001b[31mERROR: pytket 0.12.0 has requirement sympy~=1.6, but you'll have sympy 1.4 which is incompatible.\u001b[0m\n",
      "\u001b[31mERROR: pytket-honeywell 0.12.0 has requirement nest-asyncio>=1.2, but you'll have nest-asyncio 1.0.0 which is incompatible.\u001b[0m\n",
      "\u001b[31mERROR: pyquil 2.28.1 has requirement rpcq>=3.6.0, but you'll have rpcq 2.7.2 which is incompatible.\u001b[0m\n",
      "\u001b[31mERROR: dwave-ocean-sdk 3.4.0 has requirement dimod==0.9.15, but you'll have dimod 0.8.21 which is incompatible.\u001b[0m\n",
      "\u001b[31mERROR: dwave-ocean-sdk 3.4.0 has requirement minorminer==0.2.6, but you'll have minorminer 0.1.8 which is incompatible.\u001b[0m\n",
      "\u001b[31mERROR: dwave-ocean-sdk 3.4.0 has requirement penaltymodel==0.16.4, but you'll have penaltymodel 0.16.2 which is incompatible.\u001b[0m\n",
      "\u001b[31mERROR: dwave-ocean-sdk 3.4.0 has requirement penaltymodel-cache==0.4.3, but you'll have penaltymodel-cache 0.4.0 which is incompatible.\u001b[0m\n",
      "\u001b[31mERROR: dwave-ocean-sdk 3.4.0 has requirement penaltymodel-mip==0.2.4; platform_machine == \"x86_64\" or platform_machine == \"amd64\" or platform_machine == \"AMD64\", but you'll have penaltymodel-mip 0.2.1 which is incompatible.\u001b[0m\n",
      "\u001b[31mERROR: dwave-ocean-sdk 3.4.0 has requirement pyqubo==1.0.12, but you'll have pyqubo 0.4.0 which is incompatible.\u001b[0m\n",
      "\u001b[31mERROR: cirq-core 0.11.0 has requirement networkx~=2.4, but you'll have networkx 2.2 which is incompatible.\u001b[0m\n",
      "Installing collected packages: scipy, pybind11\n",
      "  Attempting uninstall: scipy\n",
      "    Found existing installation: scipy 1.1.0\n",
      "    Uninstalling scipy-1.1.0:\n",
      "\u001b[31mERROR: Could not install packages due to an EnvironmentError: [Errno 13] Permission denied: 'METADATA'\n",
      "Consider using the `--user` option or check the permissions.\n",
      "\u001b[0m\n",
      "Note: you may need to restart the kernel to use updated packages.\n"
     ]
    }
   ],
   "source": [
    "%pip install qiskit"
   ]
  },
  {
   "cell_type": "code",
   "execution_count": 126,
   "metadata": {},
   "outputs": [
    {
     "name": "stdout",
     "output_type": "stream",
     "text": [
      "Requirement already satisfied: pylatexenc in /opt/conda/lib/python3.7/site-packages (1.5)\n",
      "Note: you may need to restart the kernel to use updated packages.\n",
      "Requirement already satisfied: matplotlib in /opt/conda/lib/python3.7/site-packages (3.4.2)\n",
      "Requirement already satisfied: pillow>=6.2.0 in /opt/conda/lib/python3.7/site-packages (from matplotlib) (8.3.1)\n",
      "Requirement already satisfied: pyparsing>=2.2.1 in /opt/conda/lib/python3.7/site-packages (from matplotlib) (2.4.2)\n",
      "Requirement already satisfied: kiwisolver>=1.0.1 in /opt/conda/lib/python3.7/site-packages (from matplotlib) (1.1.0)\n",
      "Requirement already satisfied: python-dateutil>=2.7 in /opt/conda/lib/python3.7/site-packages (from matplotlib) (2.8.0)\n",
      "Requirement already satisfied: numpy>=1.16 in /opt/conda/lib/python3.7/site-packages (from matplotlib) (1.18.4)\n",
      "Requirement already satisfied: cycler>=0.10 in /opt/conda/lib/python3.7/site-packages (from matplotlib) (0.10.0)\n",
      "Requirement already satisfied: setuptools in /opt/conda/lib/python3.7/site-packages (from kiwisolver>=1.0.1->matplotlib) (47.3.1.post20200616)\n",
      "Requirement already satisfied: six>=1.5 in /opt/conda/lib/python3.7/site-packages (from python-dateutil>=2.7->matplotlib) (1.12.0)\n",
      "Note: you may need to restart the kernel to use updated packages.\n"
     ]
    }
   ],
   "source": [
    "%pip install pylatexenc\n",
    "%pip install matplotlib"
   ]
  },
  {
   "cell_type": "code",
   "execution_count": 4,
   "metadata": {},
   "outputs": [],
   "source": [
    "#initialization\n",
    "import matplotlib.pyplot as plt\n",
    "import numpy as np\n",
    "\n",
    "from qiskit import QuantumCircuit, QuantumRegister, ClassicalRegister, BasicAer, execute, IBMQ, assemble, Aer, transpile\n",
    "from qiskit.quantum_info import Statevector\n",
    "from qiskit.visualization import plot_histogram, plot_state_qsphere, plot_bloch_multivector, plot_bloch_vector\n",
    "import getpass"
   ]
  },
  {
   "cell_type": "markdown",
   "metadata": {},
   "source": [
    "# Using Grover's Algorithm to find collisions in hash functions\n",
    "\n",
    "Grover's algorithm is a quantum algorithm that can solve an unstructured search problem in significantly less time than traditional searching algorithms. It finds solutions in two steps: converting the problem into an oracle and marks the solutions by amplification. A oracle is a quantum circuit that represents the problem so the algorithm can perform calculations on it. Amplitude tells the probabily that a state happens. Grover's algorithm increases amplitudes of correct states and decreases amplitudes of incorrect ones - this is named amplification."
   ]
  },
  {
   "cell_type": "markdown",
   "metadata": {},
   "source": [
    "### Hash Function\n",
    "A hash function returns a unique value to a given input. This practice is called *hashing*. The function is useful in multiple ways; the most common implementations are to simplify the input and verify for uniqueness. For instance, the *SHA-256* is a function that gives a unique value by hashing the content in the file. However, hash functions are not impervious; they might give the same hash value for different inputs - we call this case *collision*. Collisions are problematic since they are by definition inconsistent with the purpose of hashing, especially in the field of cryptography."
   ]
  },
  {
   "cell_type": "markdown",
   "metadata": {},
   "source": [
    "### Our goal\n",
    "We want to demonstrate that Grover's algorithm can be used to find collisions for hash functions. We will use the algorithm to find all possible inputs for a given hash value. Collisions would occur if we could see multiple states with equal, nonzero probabilities on a histogram."
   ]
  },
  {
   "cell_type": "markdown",
   "metadata": {},
   "source": [
    "### Implementation\n",
    "\n",
    "We will first devise the hash algorithm that we want to search on. In our case, we will make a oversimplified hash function that will have many collisions. The hash function will take every two qubits, XOR them, and XOR the result of that to one of the four qubits of the clause qubits. The resulting value is an imperfect hash function with a few collisions that we can find.\n",
    "\n",
    "The function defined below takes in a quantum circuit, the input qubits, the clause qubits (used for computation), the output qubit (whether the input was a \"match\" to the hash value), and the hash value to compare the result to.\n",
    "\n",
    "In order for this to actually negate the phase of the state we are looking for, we use phase kickback to invert the phases of the control qubits. This will be seen later in the actual implementation of Grover's Algorithm."
   ]
  },
  {
   "cell_type": "code",
   "execution_count": 11,
   "metadata": {},
   "outputs": [],
   "source": [
    "def hash_oracle(qc, qubits, clause_qubits, output, hash_value):\n",
    "    \n",
    "    # Prepares the circuit to \"compare\" the clause_qubits to the hash_value\n",
    "    exp = 0\n",
    "    while exp < len(clause_qubits):\n",
    "        if not hash_value & (1 << exp) > 0:\n",
    "            qc.x(clause_qubits[exp])\n",
    "        exp += 1\n",
    "    qc.barrier()\n",
    "    \n",
    "    # XORs every two qubits and XORs the result of that into one of the clause_qubits\n",
    "    for i in range(0, len(qubits), 1):\n",
    "        qc.cx(qubits[i], clause_qubits[i % len(clause_qubits)])\n",
    "        qc.cx(qubits[(i + 1) % len(qubits)], clause_qubits[i % len(clause_qubits)])\n",
    "    \n",
    "    # Checks if all the clause_qubits are satisfied\n",
    "    qc.mct(clause_qubits, output)\n",
    "    \n",
    "    # Repeat all the steps to ensure that clause_qubits are |0000>\n",
    "    for i in range(0, len(qubits), 1):\n",
    "        qc.cx(qubits[i], clause_qubits[i % len(clause_qubits)])\n",
    "        qc.cx(qubits[(i + 1) % len(qubits)], clause_qubits[i % len(clause_qubits)])\n",
    "    \n",
    "    qc.barrier()\n",
    "    exp = 0\n",
    "    while exp < len(clause_qubits):\n",
    "        if not hash_value & (1 << exp) > 0:\n",
    "            qc.x(clause_qubits[exp])\n",
    "        exp += 1"
   ]
  },
  {
   "cell_type": "markdown",
   "metadata": {},
   "source": [
    "With the hash oracle, we will now create the diffuser for Grover's algorithm. The diffuser is a general gate that is the same for every Grover's algorithm implementation. It takes the negated state from the oracle and amplifies it so that the probability of measuring that state is higher than it was before. Below is the implementation:"
   ]
  },
  {
   "cell_type": "code",
   "execution_count": 7,
   "metadata": {},
   "outputs": [],
   "source": [
    "def diffuser(n):\n",
    "    qc = QuantumCircuit(n)\n",
    "    \n",
    "    for qubit in range(n):\n",
    "        qc.h(qubit)\n",
    "\n",
    "    for qubit in range(n):\n",
    "        qc.x(qubit)\n",
    "\n",
    "    qc.h(n-1)\n",
    "    qc.mct(list(range(n-1)), n-1)\n",
    "    qc.h(n-1)\n",
    "\n",
    "    for qubit in range(n):\n",
    "        qc.x(qubit)\n",
    "        \n",
    "    for qubit in range(n):\n",
    "        qc.h(qubit)\n",
    "\n",
    "    d = qc.to_gate()\n",
    "    d.name = \"Diffuser\"\n",
    "    return d"
   ]
  },
  {
   "cell_type": "code",
   "execution_count": 8,
   "metadata": {},
   "outputs": [
    {
     "data": {
      "text/html": [
       "<pre style=\"word-wrap: normal;white-space: pre;background: #fff0;line-height: 1.1;font-family: &quot;Courier New&quot;,Courier,monospace\">                      ┌───┐               ░       ░                                                                                       ░       ░ ┌───────────┐ ░                                                                                       ░       ░ ┌───────────┐┌─┐         \n",
       "    v_0: ─────────────┤ H ├───────────────░───────░───■──────────────────────────────────■─────────■──────────────────────────────────■───░───────░─┤0          ├─░───■──────────────────────────────────■─────────■──────────────────────────────────■───░───────░─┤0          ├┤M├─────────\n",
       "                      ├───┤               ░       ░   │                                  │         │                                  │   ░       ░ │           │ ░   │                                  │         │                                  │   ░       ░ │           │└╥┘┌─┐      \n",
       "    v_1: ─────────────┤ H ├───────────────░───────░───┼────■────■────────────────────────┼─────────┼────■────■────────────────────────┼───░───────░─┤1          ├─░───┼────■────■────────────────────────┼─────────┼────■────■────────────────────────┼───░───────░─┤1          ├─╫─┤M├──────\n",
       "                      ├───┤               ░       ░   │    │    │                        │         │    │    │                        │   ░       ░ │  Diffuser │ ░   │    │    │                        │         │    │    │                        │   ░       ░ │  Diffuser │ ║ └╥┘┌─┐   \n",
       "    v_2: ─────────────┤ H ├───────────────░───────░───┼────┼────┼────■────■──────────────┼─────────┼────┼────┼────■────■──────────────┼───░───────░─┤2          ├─░───┼────┼────┼────■────■──────────────┼─────────┼────┼────┼────■────■──────────────┼───░───────░─┤2          ├─╫──╫─┤M├───\n",
       "                      ├───┤               ░       ░   │    │    │    │    │              │         │    │    │    │    │              │   ░       ░ │           │ ░   │    │    │    │    │              │         │    │    │    │    │              │   ░       ░ │           │ ║  ║ └╥┘┌─┐\n",
       "    v_3: ─────────────┤ H ├───────────────░───────░───┼────┼────┼────┼────┼────■────■────┼─────────┼────┼────┼────┼────┼────■────■────┼───░───────░─┤3          ├─░───┼────┼────┼────┼────┼────■────■────┼─────────┼────┼────┼────┼────┼────■────■────┼───░───────░─┤3          ├─╫──╫──╫─┤M├\n",
       "                      └───┘               ░ ┌───┐ ░ ┌─┴─┐┌─┴─┐  │    │    │    │    │    │       ┌─┴─┐┌─┴─┐  │    │    │    │    │    │   ░ ┌───┐ ░ └───┬───┬───┘ ░ ┌─┴─┐┌─┴─┐  │    │    │    │    │    │       ┌─┴─┐┌─┴─┐  │    │    │    │    │    │   ░ ┌───┐ ░ └───────────┘ ║  ║  ║ └╥┘\n",
       "    c_0: ─────────────────────────────────░─┤ X ├─░─┤ X ├┤ X ├──┼────┼────┼────┼────┼────┼────■──┤ X ├┤ X ├──┼────┼────┼────┼────┼────┼───░─┤ X ├─░─────┤ X ├─────░─┤ X ├┤ X ├──┼────┼────┼────┼────┼────┼────■──┤ X ├┤ X ├──┼────┼────┼────┼────┼────┼───░─┤ X ├─░───────────────╫──╫──╫──╫─\n",
       "                                          ░ └───┘ ░ └───┘└───┘┌─┴─┐┌─┴─┐  │    │    │    │    │  └───┘└───┘┌─┴─┐┌─┴─┐  │    │    │    │   ░ └───┘ ░     └───┘     ░ └───┘└───┘┌─┴─┐┌─┴─┐  │    │    │    │    │  └───┘└───┘┌─┴─┐┌─┴─┐  │    │    │    │   ░ └───┘ ░               ║  ║  ║  ║ \n",
       "    c_1: ─────────────────────────────────░───────░───────────┤ X ├┤ X ├──┼────┼────┼────┼────■────────────┤ X ├┤ X ├──┼────┼────┼────┼───░───────░───────────────░───────────┤ X ├┤ X ├──┼────┼────┼────┼────■────────────┤ X ├┤ X ├──┼────┼────┼────┼───░───────░───────────────╫──╫──╫──╫─\n",
       "                                          ░ ┌───┐ ░           └───┘└───┘┌─┴─┐┌─┴─┐  │    │    │            └───┘└───┘┌─┴─┐┌─┴─┐  │    │   ░ ┌───┐ ░     ┌───┐     ░           └───┘└───┘┌─┴─┐┌─┴─┐  │    │    │            └───┘└───┘┌─┴─┐┌─┴─┐  │    │   ░ ┌───┐ ░               ║  ║  ║  ║ \n",
       "    c_2: ─────────────────────────────────░─┤ X ├─░─────────────────────┤ X ├┤ X ├──┼────┼────■──────────────────────┤ X ├┤ X ├──┼────┼───░─┤ X ├─░─────┤ X ├─────░─────────────────────┤ X ├┤ X ├──┼────┼────■──────────────────────┤ X ├┤ X ├──┼────┼───░─┤ X ├─░───────────────╫──╫──╫──╫─\n",
       "                                          ░ └───┘ ░                     └───┘└───┘┌─┴─┐┌─┴─┐  │                      └───┘└───┘┌─┴─┐┌─┴─┐ ░ └───┘ ░     └───┘     ░                     └───┘└───┘┌─┴─┐┌─┴─┐  │                      └───┘└───┘┌─┴─┐┌─┴─┐ ░ └───┘ ░               ║  ║  ║  ║ \n",
       "    c_3: ─────────────────────────────────░───────░───────────────────────────────┤ X ├┤ X ├──■────────────────────────────────┤ X ├┤ X ├─░───────░───────────────░───────────────────────────────┤ X ├┤ X ├──■────────────────────────────────┤ X ├┤ X ├─░───────░───────────────╫──╫──╫──╫─\n",
       "         ┌──────────────────────────────┐ ░       ░                               └───┘└───┘┌─┴─┐                              └───┘└───┘ ░       ░               ░                               └───┘└───┘┌─┴─┐                              └───┘└───┘ ░       ░               ║  ║  ║  ║ \n",
       "  out_0: ┤ initialize(0.70711,-0.70711) ├─░───────░─────────────────────────────────────────┤ X ├─────────────────────────────────────────░───────░───────────────░─────────────────────────────────────────┤ X ├─────────────────────────────────────────░───────░───────────────╫──╫──╫──╫─\n",
       "         └──────────────────────────────┘ ░       ░                                         └───┘                                         ░       ░               ░                                         └───┘                                         ░       ░               ║  ║  ║  ║ \n",
       "cbits: 4/═════════════════════════════════════════════════════════════════════════════════════════════════════════════════════════════════════════════════════════════════════════════════════════════════════════════════════════════════════════════════════════════════════════╩══╩══╩══╩═\n",
       "                                                                                                                                                                                                                                                                                  0  1  2  3 </pre>"
      ],
      "text/plain": [
       "                      ┌───┐               ░       ░                                                                                       ░       ░ ┌───────────┐ ░                                                                                       ░       ░ ┌───────────┐┌─┐         \n",
       "    v_0: ─────────────┤ H ├───────────────░───────░───■──────────────────────────────────■─────────■──────────────────────────────────■───░───────░─┤0          ├─░───■──────────────────────────────────■─────────■──────────────────────────────────■───░───────░─┤0          ├┤M├─────────\n",
       "                      ├───┤               ░       ░   │                                  │         │                                  │   ░       ░ │           │ ░   │                                  │         │                                  │   ░       ░ │           │└╥┘┌─┐      \n",
       "    v_1: ─────────────┤ H ├───────────────░───────░───┼────■────■────────────────────────┼─────────┼────■────■────────────────────────┼───░───────░─┤1          ├─░───┼────■────■────────────────────────┼─────────┼────■────■────────────────────────┼───░───────░─┤1          ├─╫─┤M├──────\n",
       "                      ├───┤               ░       ░   │    │    │                        │         │    │    │                        │   ░       ░ │  Diffuser │ ░   │    │    │                        │         │    │    │                        │   ░       ░ │  Diffuser │ ║ └╥┘┌─┐   \n",
       "    v_2: ─────────────┤ H ├───────────────░───────░───┼────┼────┼────■────■──────────────┼─────────┼────┼────┼────■────■──────────────┼───░───────░─┤2          ├─░───┼────┼────┼────■────■──────────────┼─────────┼────┼────┼────■────■──────────────┼───░───────░─┤2          ├─╫──╫─┤M├───\n",
       "                      ├───┤               ░       ░   │    │    │    │    │              │         │    │    │    │    │              │   ░       ░ │           │ ░   │    │    │    │    │              │         │    │    │    │    │              │   ░       ░ │           │ ║  ║ └╥┘┌─┐\n",
       "    v_3: ─────────────┤ H ├───────────────░───────░───┼────┼────┼────┼────┼────■────■────┼─────────┼────┼────┼────┼────┼────■────■────┼───░───────░─┤3          ├─░───┼────┼────┼────┼────┼────■────■────┼─────────┼────┼────┼────┼────┼────■────■────┼───░───────░─┤3          ├─╫──╫──╫─┤M├\n",
       "                      └───┘               ░ ┌───┐ ░ ┌─┴─┐┌─┴─┐  │    │    │    │    │    │       ┌─┴─┐┌─┴─┐  │    │    │    │    │    │   ░ ┌───┐ ░ └───┬───┬───┘ ░ ┌─┴─┐┌─┴─┐  │    │    │    │    │    │       ┌─┴─┐┌─┴─┐  │    │    │    │    │    │   ░ ┌───┐ ░ └───────────┘ ║  ║  ║ └╥┘\n",
       "    c_0: ─────────────────────────────────░─┤ X ├─░─┤ X ├┤ X ├──┼────┼────┼────┼────┼────┼────■──┤ X ├┤ X ├──┼────┼────┼────┼────┼────┼───░─┤ X ├─░─────┤ X ├─────░─┤ X ├┤ X ├──┼────┼────┼────┼────┼────┼────■──┤ X ├┤ X ├──┼────┼────┼────┼────┼────┼───░─┤ X ├─░───────────────╫──╫──╫──╫─\n",
       "                                          ░ └───┘ ░ └───┘└───┘┌─┴─┐┌─┴─┐  │    │    │    │    │  └───┘└───┘┌─┴─┐┌─┴─┐  │    │    │    │   ░ └───┘ ░     └───┘     ░ └───┘└───┘┌─┴─┐┌─┴─┐  │    │    │    │    │  └───┘└───┘┌─┴─┐┌─┴─┐  │    │    │    │   ░ └───┘ ░               ║  ║  ║  ║ \n",
       "    c_1: ─────────────────────────────────░───────░───────────┤ X ├┤ X ├──┼────┼────┼────┼────■────────────┤ X ├┤ X ├──┼────┼────┼────┼───░───────░───────────────░───────────┤ X ├┤ X ├──┼────┼────┼────┼────■────────────┤ X ├┤ X ├──┼────┼────┼────┼───░───────░───────────────╫──╫──╫──╫─\n",
       "                                          ░ ┌───┐ ░           └───┘└───┘┌─┴─┐┌─┴─┐  │    │    │            └───┘└───┘┌─┴─┐┌─┴─┐  │    │   ░ ┌───┐ ░     ┌───┐     ░           └───┘└───┘┌─┴─┐┌─┴─┐  │    │    │            └───┘└───┘┌─┴─┐┌─┴─┐  │    │   ░ ┌───┐ ░               ║  ║  ║  ║ \n",
       "    c_2: ─────────────────────────────────░─┤ X ├─░─────────────────────┤ X ├┤ X ├──┼────┼────■──────────────────────┤ X ├┤ X ├──┼────┼───░─┤ X ├─░─────┤ X ├─────░─────────────────────┤ X ├┤ X ├──┼────┼────■──────────────────────┤ X ├┤ X ├──┼────┼───░─┤ X ├─░───────────────╫──╫──╫──╫─\n",
       "                                          ░ └───┘ ░                     └───┘└───┘┌─┴─┐┌─┴─┐  │                      └───┘└───┘┌─┴─┐┌─┴─┐ ░ └───┘ ░     └───┘     ░                     └───┘└───┘┌─┴─┐┌─┴─┐  │                      └───┘└───┘┌─┴─┐┌─┴─┐ ░ └───┘ ░               ║  ║  ║  ║ \n",
       "    c_3: ─────────────────────────────────░───────░───────────────────────────────┤ X ├┤ X ├──■────────────────────────────────┤ X ├┤ X ├─░───────░───────────────░───────────────────────────────┤ X ├┤ X ├──■────────────────────────────────┤ X ├┤ X ├─░───────░───────────────╫──╫──╫──╫─\n",
       "         ┌──────────────────────────────┐ ░       ░                               └───┘└───┘┌─┴─┐                              └───┘└───┘ ░       ░               ░                               └───┘└───┘┌─┴─┐                              └───┘└───┘ ░       ░               ║  ║  ║  ║ \n",
       "  out_0: ┤ initialize(0.70711,-0.70711) ├─░───────░─────────────────────────────────────────┤ X ├─────────────────────────────────────────░───────░───────────────░─────────────────────────────────────────┤ X ├─────────────────────────────────────────░───────░───────────────╫──╫──╫──╫─\n",
       "         └──────────────────────────────┘ ░       ░                                         └───┘                                         ░       ░               ░                                         └───┘                                         ░       ░               ║  ║  ║  ║ \n",
       "cbits: 4/═════════════════════════════════════════════════════════════════════════════════════════════════════════════════════════════════════════════════════════════════════════════════════════════════════════════════════════════════════════════════════════════════════════╩══╩══╩══╩═\n",
       "                                                                                                                                                                                                                                                                                  0  1  2  3 "
      ]
     },
     "execution_count": 8,
     "metadata": {},
     "output_type": "execute_result"
    }
   ],
   "source": [
    "n_qubits = 4\n",
    "iterations = int(n_qubits ** (1/2))\n",
    "hash_value = 10\n",
    "\n",
    "var_qubits = QuantumRegister(n_qubits, name='v')\n",
    "clause_qubits = QuantumRegister(4, name='c')  # bits to store clause-checks\n",
    "output_qubit = QuantumRegister(1, name='out')\n",
    "cbits = ClassicalRegister(n_qubits, name='cbits')\n",
    "qc = QuantumCircuit(var_qubits, clause_qubits, output_qubit, cbits)\n",
    "\n",
    "# Initialize the output qubit to |->\n",
    "qc.initialize([1, -1]/np.sqrt(2), output_qubit)\n",
    "\n",
    "# Initialize the qubits to the state |s> (intially the equal superposition or |+> state)\n",
    "qc.h(var_qubits)\n",
    "qc.barrier()\n",
    "\n",
    "# Repeat the process _iterations_ times\n",
    "for iteration in range(iterations):\n",
    "    # Apply our oracle\n",
    "    hash_oracle(qc, var_qubits, clause_qubits, output_qubit, hash_value)\n",
    "    qc.barrier()\n",
    "    # Apply the diffuser\n",
    "    qc.append(diffuser(n_qubits), list(range(n_qubits)))\n",
    "\n",
    "# Measure the variable qubits\n",
    "qc.measure(var_qubits, cbits)\n",
    "\n",
    "qc.draw(fold=-1)\n"
   ]
  },
  {
   "cell_type": "markdown",
   "metadata": {},
   "source": [
    "We can simulate the output of the circuit to see which states result in the hash value entered above. There should be glaringly obvious peaks in probability. If there are not, then that is because the hash value entered above is impossible to obtain (there are some values between 0-15 that are impossible):"
   ]
  },
  {
   "cell_type": "code",
   "execution_count": 10,
   "metadata": {},
   "outputs": [
    {
     "data": {
      "image/png": "[encoded data removed]",
      "text/plain": [
       "<Figure size 504x360 with 1 Axes>"
      ]
     },
     "execution_count": 10,
     "metadata": {},
     "output_type": "execute_result"
    }
   ],
   "source": [
    "aer_simulator = Aer.get_backend('aer_simulator')\n",
    "transpiled_qc = transpile(qc, aer_simulator)\n",
    "qobj = assemble(transpiled_qc)\n",
    "result = aer_simulator.run(qobj).result()\n",
    "plot_histogram(result.get_counts())"
   ]
  },
  {
   "cell_type": "markdown",
   "metadata": {},
   "source": [
    "## Conclusion\n",
    "While our hash function was very simple and not a very strong one, the result of this experiment shows that we can use quantum computers to search for collisions in $O(\\sqrt{N})$ time. The current infrastructure we have for quantum computing is too slow and error-prone, unfortunately, in order to test this on a more modern hashing method. However, when that day comes, the current implementation of this can later be improved with a more standard hash function like *MD5* or *SHA-256* to find collisions for any given hash value."
   ]
  }
 ],
 "metadata": {
  "kernelspec": {
   "display_name": "Python 3",
   "language": "python",
   "name": "python3"
  },
  "language_info": {
   "codemirror_mode": {
    "name": "ipython",
    "version": 3
   },
   "file_extension": ".py",
   "mimetype": "text/x-python",
   "name": "python",
   "nbconvert_exporter": "python",
   "pygments_lexer": "ipython3",
   "version": "3.7.6"
  }
 },
 "nbformat": 4,
 "nbformat_minor": 2
}
